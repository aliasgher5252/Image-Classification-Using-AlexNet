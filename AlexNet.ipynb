{
  "nbformat": 4,
  "nbformat_minor": 0,
  "metadata": {
    "colab": {
      "provenance": []
    },
    "kernelspec": {
      "name": "python3",
      "display_name": "Python 3"
    },
    "language_info": {
      "name": "python"
    },
    "widgets": {
      "application/vnd.jupyter.widget-state+json": {
        "6ee9be8a541e43e08adcf5361322ba83": {
          "model_module": "@jupyter-widgets/controls",
          "model_name": "HBoxModel",
          "model_module_version": "1.5.0",
          "state": {
            "_dom_classes": [],
            "_model_module": "@jupyter-widgets/controls",
            "_model_module_version": "1.5.0",
            "_model_name": "HBoxModel",
            "_view_count": null,
            "_view_module": "@jupyter-widgets/controls",
            "_view_module_version": "1.5.0",
            "_view_name": "HBoxView",
            "box_style": "",
            "children": [
              "IPY_MODEL_ff4fe90056fc4faa9c4a9f1c427ff2d7",
              "IPY_MODEL_fb6bb204afc444b390519ca9f7cba19a",
              "IPY_MODEL_ba57719a70ed4f8daa255de632418f2a"
            ],
            "layout": "IPY_MODEL_a2c4dee53e2c4dd0905728506d684759"
          }
        },
        "ff4fe90056fc4faa9c4a9f1c427ff2d7": {
          "model_module": "@jupyter-widgets/controls",
          "model_name": "HTMLModel",
          "model_module_version": "1.5.0",
          "state": {
            "_dom_classes": [],
            "_model_module": "@jupyter-widgets/controls",
            "_model_module_version": "1.5.0",
            "_model_name": "HTMLModel",
            "_view_count": null,
            "_view_module": "@jupyter-widgets/controls",
            "_view_module_version": "1.5.0",
            "_view_name": "HTMLView",
            "description": "",
            "description_tooltip": null,
            "layout": "IPY_MODEL_bf24988a05064469a67d70bb5ebc84be",
            "placeholder": "​",
            "style": "IPY_MODEL_93d21a6d33cf44cb9d4f5b69ce33b365",
            "value": "100%"
          }
        },
        "fb6bb204afc444b390519ca9f7cba19a": {
          "model_module": "@jupyter-widgets/controls",
          "model_name": "FloatProgressModel",
          "model_module_version": "1.5.0",
          "state": {
            "_dom_classes": [],
            "_model_module": "@jupyter-widgets/controls",
            "_model_module_version": "1.5.0",
            "_model_name": "FloatProgressModel",
            "_view_count": null,
            "_view_module": "@jupyter-widgets/controls",
            "_view_module_version": "1.5.0",
            "_view_name": "ProgressView",
            "bar_style": "success",
            "description": "",
            "description_tooltip": null,
            "layout": "IPY_MODEL_a149d79b4e8a47c3b9d8731a491c2202",
            "max": 244408911,
            "min": 0,
            "orientation": "horizontal",
            "style": "IPY_MODEL_582e372cdb644f309fb61b69d0b0f544",
            "value": 244408911
          }
        },
        "ba57719a70ed4f8daa255de632418f2a": {
          "model_module": "@jupyter-widgets/controls",
          "model_name": "HTMLModel",
          "model_module_version": "1.5.0",
          "state": {
            "_dom_classes": [],
            "_model_module": "@jupyter-widgets/controls",
            "_model_module_version": "1.5.0",
            "_model_name": "HTMLModel",
            "_view_count": null,
            "_view_module": "@jupyter-widgets/controls",
            "_view_module_version": "1.5.0",
            "_view_name": "HTMLView",
            "description": "",
            "description_tooltip": null,
            "layout": "IPY_MODEL_d5a9da35dcbc43e1998988f823f6d143",
            "placeholder": "​",
            "style": "IPY_MODEL_c3a82dc2dfdc4148a2eb2f3003408abd",
            "value": " 233M/233M [00:01&lt;00:00, 196MB/s]"
          }
        },
        "a2c4dee53e2c4dd0905728506d684759": {
          "model_module": "@jupyter-widgets/base",
          "model_name": "LayoutModel",
          "model_module_version": "1.2.0",
          "state": {
            "_model_module": "@jupyter-widgets/base",
            "_model_module_version": "1.2.0",
            "_model_name": "LayoutModel",
            "_view_count": null,
            "_view_module": "@jupyter-widgets/base",
            "_view_module_version": "1.2.0",
            "_view_name": "LayoutView",
            "align_content": null,
            "align_items": null,
            "align_self": null,
            "border": null,
            "bottom": null,
            "display": null,
            "flex": null,
            "flex_flow": null,
            "grid_area": null,
            "grid_auto_columns": null,
            "grid_auto_flow": null,
            "grid_auto_rows": null,
            "grid_column": null,
            "grid_gap": null,
            "grid_row": null,
            "grid_template_areas": null,
            "grid_template_columns": null,
            "grid_template_rows": null,
            "height": null,
            "justify_content": null,
            "justify_items": null,
            "left": null,
            "margin": null,
            "max_height": null,
            "max_width": null,
            "min_height": null,
            "min_width": null,
            "object_fit": null,
            "object_position": null,
            "order": null,
            "overflow": null,
            "overflow_x": null,
            "overflow_y": null,
            "padding": null,
            "right": null,
            "top": null,
            "visibility": null,
            "width": null
          }
        },
        "bf24988a05064469a67d70bb5ebc84be": {
          "model_module": "@jupyter-widgets/base",
          "model_name": "LayoutModel",
          "model_module_version": "1.2.0",
          "state": {
            "_model_module": "@jupyter-widgets/base",
            "_model_module_version": "1.2.0",
            "_model_name": "LayoutModel",
            "_view_count": null,
            "_view_module": "@jupyter-widgets/base",
            "_view_module_version": "1.2.0",
            "_view_name": "LayoutView",
            "align_content": null,
            "align_items": null,
            "align_self": null,
            "border": null,
            "bottom": null,
            "display": null,
            "flex": null,
            "flex_flow": null,
            "grid_area": null,
            "grid_auto_columns": null,
            "grid_auto_flow": null,
            "grid_auto_rows": null,
            "grid_column": null,
            "grid_gap": null,
            "grid_row": null,
            "grid_template_areas": null,
            "grid_template_columns": null,
            "grid_template_rows": null,
            "height": null,
            "justify_content": null,
            "justify_items": null,
            "left": null,
            "margin": null,
            "max_height": null,
            "max_width": null,
            "min_height": null,
            "min_width": null,
            "object_fit": null,
            "object_position": null,
            "order": null,
            "overflow": null,
            "overflow_x": null,
            "overflow_y": null,
            "padding": null,
            "right": null,
            "top": null,
            "visibility": null,
            "width": null
          }
        },
        "93d21a6d33cf44cb9d4f5b69ce33b365": {
          "model_module": "@jupyter-widgets/controls",
          "model_name": "DescriptionStyleModel",
          "model_module_version": "1.5.0",
          "state": {
            "_model_module": "@jupyter-widgets/controls",
            "_model_module_version": "1.5.0",
            "_model_name": "DescriptionStyleModel",
            "_view_count": null,
            "_view_module": "@jupyter-widgets/base",
            "_view_module_version": "1.2.0",
            "_view_name": "StyleView",
            "description_width": ""
          }
        },
        "a149d79b4e8a47c3b9d8731a491c2202": {
          "model_module": "@jupyter-widgets/base",
          "model_name": "LayoutModel",
          "model_module_version": "1.2.0",
          "state": {
            "_model_module": "@jupyter-widgets/base",
            "_model_module_version": "1.2.0",
            "_model_name": "LayoutModel",
            "_view_count": null,
            "_view_module": "@jupyter-widgets/base",
            "_view_module_version": "1.2.0",
            "_view_name": "LayoutView",
            "align_content": null,
            "align_items": null,
            "align_self": null,
            "border": null,
            "bottom": null,
            "display": null,
            "flex": null,
            "flex_flow": null,
            "grid_area": null,
            "grid_auto_columns": null,
            "grid_auto_flow": null,
            "grid_auto_rows": null,
            "grid_column": null,
            "grid_gap": null,
            "grid_row": null,
            "grid_template_areas": null,
            "grid_template_columns": null,
            "grid_template_rows": null,
            "height": null,
            "justify_content": null,
            "justify_items": null,
            "left": null,
            "margin": null,
            "max_height": null,
            "max_width": null,
            "min_height": null,
            "min_width": null,
            "object_fit": null,
            "object_position": null,
            "order": null,
            "overflow": null,
            "overflow_x": null,
            "overflow_y": null,
            "padding": null,
            "right": null,
            "top": null,
            "visibility": null,
            "width": null
          }
        },
        "582e372cdb644f309fb61b69d0b0f544": {
          "model_module": "@jupyter-widgets/controls",
          "model_name": "ProgressStyleModel",
          "model_module_version": "1.5.0",
          "state": {
            "_model_module": "@jupyter-widgets/controls",
            "_model_module_version": "1.5.0",
            "_model_name": "ProgressStyleModel",
            "_view_count": null,
            "_view_module": "@jupyter-widgets/base",
            "_view_module_version": "1.2.0",
            "_view_name": "StyleView",
            "bar_color": null,
            "description_width": ""
          }
        },
        "d5a9da35dcbc43e1998988f823f6d143": {
          "model_module": "@jupyter-widgets/base",
          "model_name": "LayoutModel",
          "model_module_version": "1.2.0",
          "state": {
            "_model_module": "@jupyter-widgets/base",
            "_model_module_version": "1.2.0",
            "_model_name": "LayoutModel",
            "_view_count": null,
            "_view_module": "@jupyter-widgets/base",
            "_view_module_version": "1.2.0",
            "_view_name": "LayoutView",
            "align_content": null,
            "align_items": null,
            "align_self": null,
            "border": null,
            "bottom": null,
            "display": null,
            "flex": null,
            "flex_flow": null,
            "grid_area": null,
            "grid_auto_columns": null,
            "grid_auto_flow": null,
            "grid_auto_rows": null,
            "grid_column": null,
            "grid_gap": null,
            "grid_row": null,
            "grid_template_areas": null,
            "grid_template_columns": null,
            "grid_template_rows": null,
            "height": null,
            "justify_content": null,
            "justify_items": null,
            "left": null,
            "margin": null,
            "max_height": null,
            "max_width": null,
            "min_height": null,
            "min_width": null,
            "object_fit": null,
            "object_position": null,
            "order": null,
            "overflow": null,
            "overflow_x": null,
            "overflow_y": null,
            "padding": null,
            "right": null,
            "top": null,
            "visibility": null,
            "width": null
          }
        },
        "c3a82dc2dfdc4148a2eb2f3003408abd": {
          "model_module": "@jupyter-widgets/controls",
          "model_name": "DescriptionStyleModel",
          "model_module_version": "1.5.0",
          "state": {
            "_model_module": "@jupyter-widgets/controls",
            "_model_module_version": "1.5.0",
            "_model_name": "DescriptionStyleModel",
            "_view_count": null,
            "_view_module": "@jupyter-widgets/base",
            "_view_module_version": "1.2.0",
            "_view_name": "StyleView",
            "description_width": ""
          }
        }
      }
    }
  },
  "cells": [
    {
      "cell_type": "code",
      "execution_count": null,
      "metadata": {
        "id": "h7-B9ccfspjt"
      },
      "outputs": [],
      "source": [
        "import torch.nn as nn\n",
        "import torch.nn.functional as F\n",
        "import torch\n",
        "import numpy as np\n",
        "from torch.utils.data import Dataset\n",
        "from torch.utils.data import DataLoader\n",
        "from sklearn.model_selection import train_test_split\n",
        "import pandas as pd\n",
        "import os\n",
        "import cv2\n",
        "import torchvision.transforms as transforms\n"
      ]
    },
    {
      "cell_type": "code",
      "source": [
        "class image_dataset(Dataset):\n",
        "    def __init__(self, directory, transform=None):\n",
        "        self.directory=directory\n",
        "        self.transform = transform\n",
        "        data = []\n",
        "        classes=os.listdir(directory)\n",
        "        for i in range(len(classes)):\n",
        "            files=os.listdir(directory+'/'+classes[i])\n",
        "            for file_name in files:\n",
        "               temp_data=cv2.imread(directory+\"/\"+classes[i]+\"/\"+file_name)\n",
        "               #temp_data=cv2.resize(temp_data,(150,150))\n",
        "               temp_data2=np.array([temp_data,i],dtype=object)\n",
        "               data.append(temp_data2)\n",
        "        self.data =np.asarray(data)\n",
        "\n",
        "\n",
        "\n",
        "    def __len__(self):\n",
        "        return len(self.data)\n",
        "\n",
        "    def __getitem__(self, index):\n",
        "        input = self.data[index][0]\n",
        "        target = self.data[index][1]\n",
        "        #input = torch.tensor(input,dtype=torch.float32)\n",
        "        #input=torch.permute(input,(2,0,1))\n",
        "        target = torch.tensor(target)\n",
        "        if(self.transform!=None):\n",
        "          input=self.transform(input)\n",
        "        return (input, target)"
      ],
      "metadata": {
        "id": "hQYRBlFXszy0"
      },
      "execution_count": null,
      "outputs": []
    },
    {
      "cell_type": "code",
      "source": [
        "from google.colab import drive\n",
        "drive.mount('/content/drive')"
      ],
      "metadata": {
        "colab": {
          "base_uri": "https://localhost:8080/"
        },
        "id": "xKh3Q-Cjvxiz",
        "outputId": "2762f447-6475-474d-cf16-5d79f521d0d2"
      },
      "execution_count": null,
      "outputs": [
        {
          "output_type": "stream",
          "name": "stdout",
          "text": [
            "Mounted at /content/drive\n"
          ]
        }
      ]
    },
    {
      "cell_type": "code",
      "source": [
        "preprocess = transforms.Compose([\n",
        "    transforms.Resize(256),\n",
        "    transforms.CenterCrop(224),\n",
        "    transforms.Normalize(mean=[0.485, 0.456, 0.406], std=[0.229, 0.224, 0.225]),\n",
        "    #transforms.ToTensor(),\n",
        "    #transforms.permute((2,0,1))\n",
        "])"
      ],
      "metadata": {
        "id": "c6z6hRXis6Xr"
      },
      "execution_count": null,
      "outputs": []
    },
    {
      "cell_type": "code",
      "source": [
        "model = torch.hub.load('pytorch/vision:v0.10.0', 'alexnet', pretrained=True)\n",
        "print(model)"
      ],
      "metadata": {
        "colab": {
          "base_uri": "https://localhost:8080/",
          "height": 642,
          "referenced_widgets": [
            "6ee9be8a541e43e08adcf5361322ba83",
            "ff4fe90056fc4faa9c4a9f1c427ff2d7",
            "fb6bb204afc444b390519ca9f7cba19a",
            "ba57719a70ed4f8daa255de632418f2a",
            "a2c4dee53e2c4dd0905728506d684759",
            "bf24988a05064469a67d70bb5ebc84be",
            "93d21a6d33cf44cb9d4f5b69ce33b365",
            "a149d79b4e8a47c3b9d8731a491c2202",
            "582e372cdb644f309fb61b69d0b0f544",
            "d5a9da35dcbc43e1998988f823f6d143",
            "c3a82dc2dfdc4148a2eb2f3003408abd"
          ]
        },
        "id": "c27KDo3etCyz",
        "outputId": "c93e16bb-c99f-494b-af16-a11ebd997d57"
      },
      "execution_count": null,
      "outputs": [
        {
          "output_type": "stream",
          "name": "stderr",
          "text": [
            "Downloading: \"https://github.com/pytorch/vision/zipball/v0.10.0\" to /root/.cache/torch/hub/v0.10.0.zip\n",
            "/usr/local/lib/python3.7/dist-packages/torchvision/models/_utils.py:209: UserWarning: The parameter 'pretrained' is deprecated since 0.13 and will be removed in 0.15, please use 'weights' instead.\n",
            "  f\"The parameter '{pretrained_param}' is deprecated since 0.13 and will be removed in 0.15, \"\n",
            "/usr/local/lib/python3.7/dist-packages/torchvision/models/_utils.py:223: UserWarning: Arguments other than a weight enum or `None` for 'weights' are deprecated since 0.13 and will be removed in 0.15. The current behavior is equivalent to passing `weights=AlexNet_Weights.IMAGENET1K_V1`. You can also use `weights=AlexNet_Weights.DEFAULT` to get the most up-to-date weights.\n",
            "  warnings.warn(msg)\n",
            "Downloading: \"https://download.pytorch.org/models/alexnet-owt-7be5be79.pth\" to /root/.cache/torch/hub/checkpoints/alexnet-owt-7be5be79.pth\n"
          ]
        },
        {
          "output_type": "display_data",
          "data": {
            "text/plain": [
              "  0%|          | 0.00/233M [00:00<?, ?B/s]"
            ],
            "application/vnd.jupyter.widget-view+json": {
              "version_major": 2,
              "version_minor": 0,
              "model_id": "6ee9be8a541e43e08adcf5361322ba83"
            }
          },
          "metadata": {}
        },
        {
          "output_type": "stream",
          "name": "stdout",
          "text": [
            "AlexNet(\n",
            "  (features): Sequential(\n",
            "    (0): Conv2d(3, 64, kernel_size=(11, 11), stride=(4, 4), padding=(2, 2))\n",
            "    (1): ReLU(inplace=True)\n",
            "    (2): MaxPool2d(kernel_size=3, stride=2, padding=0, dilation=1, ceil_mode=False)\n",
            "    (3): Conv2d(64, 192, kernel_size=(5, 5), stride=(1, 1), padding=(2, 2))\n",
            "    (4): ReLU(inplace=True)\n",
            "    (5): MaxPool2d(kernel_size=3, stride=2, padding=0, dilation=1, ceil_mode=False)\n",
            "    (6): Conv2d(192, 384, kernel_size=(3, 3), stride=(1, 1), padding=(1, 1))\n",
            "    (7): ReLU(inplace=True)\n",
            "    (8): Conv2d(384, 256, kernel_size=(3, 3), stride=(1, 1), padding=(1, 1))\n",
            "    (9): ReLU(inplace=True)\n",
            "    (10): Conv2d(256, 256, kernel_size=(3, 3), stride=(1, 1), padding=(1, 1))\n",
            "    (11): ReLU(inplace=True)\n",
            "    (12): MaxPool2d(kernel_size=3, stride=2, padding=0, dilation=1, ceil_mode=False)\n",
            "  )\n",
            "  (avgpool): AdaptiveAvgPool2d(output_size=(6, 6))\n",
            "  (classifier): Sequential(\n",
            "    (0): Dropout(p=0.5, inplace=False)\n",
            "    (1): Linear(in_features=9216, out_features=4096, bias=True)\n",
            "    (2): ReLU(inplace=True)\n",
            "    (3): Dropout(p=0.5, inplace=False)\n",
            "    (4): Linear(in_features=4096, out_features=4096, bias=True)\n",
            "    (5): ReLU(inplace=True)\n",
            "    (6): Linear(in_features=4096, out_features=1000, bias=True)\n",
            "  )\n",
            ")\n"
          ]
        }
      ]
    },
    {
      "cell_type": "code",
      "source": [
        "model.classifier[6]=nn.Linear(4096,6)"
      ],
      "metadata": {
        "id": "_o_ehxFfuJVe"
      },
      "execution_count": null,
      "outputs": []
    },
    {
      "cell_type": "code",
      "source": [
        "path_train=\"/content/drive/MyDrive/Image_class_dataset/seg_train/seg_train\"\n",
        "path_val=\"/content/drive/MyDrive/Image_class_dataset/seg_val\"\n",
        "\n",
        "train_set=image_dataset(path_train,preprocess)\n",
        "val_set=image_dataset(path_val,preprocess)"
      ],
      "metadata": {
        "id": "3ekbe4tuupFG"
      },
      "execution_count": null,
      "outputs": []
    },
    {
      "cell_type": "code",
      "source": [
        "batch_size = 128\n",
        "shuffle = True\n",
        "pin_memory = True\n",
        "num_workers = 2\n",
        "num_epochs= 100\n",
        "train_loader = DataLoader(dataset=train_set, shuffle=shuffle, batch_size=batch_size,num_workers=num_workers,pin_memory=pin_memory)\n",
        "valid_loader=DataLoader(dataset=val_set, shuffle=shuffle, batch_size=batch_size,num_workers=num_workers,pin_memory=pin_memory)\n",
        "#model=NaturalSceneClassification()\n",
        "criterion = torch.nn.CrossEntropyLoss()\n",
        "optimizer = torch.optim.Adam(model.parameters(), lr = 0.0001)"
      ],
      "metadata": {
        "id": "rwGHBlRmve4_"
      },
      "execution_count": null,
      "outputs": []
    },
    {
      "cell_type": "code",
      "source": [
        "device = 'cpu'\n",
        "for epoch in range(1, num_epochs + 1):\n",
        "    model.train()\n",
        "    train_loss = 0.0\n",
        "    for data, target in train_loader:\n",
        "        # print('input :',data)\n",
        "        # print('target :',target)\n",
        "        # print(data.size(0))\n",
        "        data = data.to(device)\n",
        "        target = target.to(device)\n",
        "        # clear-the-gradients-of-all-optimized-variables\n",
        "        optimizer.zero_grad()\n",
        "        # forward-pass: compute-predicted-outputs-by-passing-inputs-to-the-model\n",
        "\n",
        "        output = model(data)\n",
        "        # calculate-the-batch-loss\n",
        "        loss = criterion(output, target)\n",
        "        # backward-pass: compute-gradient-of-the-loss-wrt-model-parameters\n",
        "        loss.backward()\n",
        "        # perform-a-single-optimization-step (parameter-update)\n",
        "        optimizer.step()\n",
        "        # print(data)\n",
        "        # print(target)\n",
        "        # update-training-loss\n",
        "        # print(loss.item())\n",
        "        # print(len(train_loader.sampler))\n",
        "        train_loss += loss.item() * data.size(0)\n",
        "    model.eval()\n",
        "    val_loss=0.0\n",
        "    for data, target in valid_loader:\n",
        "        data=data.to(device)\n",
        "        target=target.to(device)\n",
        "        pred = model(data)\n",
        "        loss1=criterion(pred,target)\n",
        "        val_loss+=loss1.item()*data.size(0)\n",
        "\n",
        "    val_loss=val_loss/len(valid_loader.sampler)\n",
        "    train_loss = train_loss / len(train_loader.sampler)\n",
        "    print('Epoch: {} \\tTraining Loss: {:.6f} \\tValidation Loss: {:.6f}'.format(epoch, train_loss,val_loss))\n"
      ],
      "metadata": {
        "colab": {
          "base_uri": "https://localhost:8080/"
        },
        "id": "UxEnTgb22Izq",
        "outputId": "85a8d551-90c0-46b4-b1f6-29864da75680"
      },
      "execution_count": null,
      "outputs": [
        {
          "output_type": "stream",
          "name": "stdout",
          "text": [
            "Epoch: 1 \tTraining Loss: 35.362314 \tValidation Loss: 25.686640\n",
            "Epoch: 2 \tTraining Loss: 7.690667 \tValidation Loss: 18.366919\n",
            "Epoch: 3 \tTraining Loss: 3.635782 \tValidation Loss: 12.065002\n",
            "Epoch: 4 \tTraining Loss: 2.175373 \tValidation Loss: 9.753644\n",
            "Epoch: 5 \tTraining Loss: 1.619329 \tValidation Loss: 9.252832\n",
            "Epoch: 6 \tTraining Loss: 1.176578 \tValidation Loss: 7.469759\n",
            "Epoch: 7 \tTraining Loss: 1.110402 \tValidation Loss: 6.703886\n",
            "Epoch: 8 \tTraining Loss: 0.895999 \tValidation Loss: 6.990613\n",
            "Epoch: 9 \tTraining Loss: 0.728353 \tValidation Loss: 8.013996\n",
            "Epoch: 10 \tTraining Loss: 0.632132 \tValidation Loss: 9.195711\n",
            "Epoch: 11 \tTraining Loss: 0.603660 \tValidation Loss: 9.238815\n",
            "Epoch: 12 \tTraining Loss: 0.529293 \tValidation Loss: 9.632605\n",
            "Epoch: 13 \tTraining Loss: 0.476908 \tValidation Loss: 10.677289\n",
            "Epoch: 14 \tTraining Loss: 0.466652 \tValidation Loss: 10.550591\n",
            "Epoch: 15 \tTraining Loss: 0.411513 \tValidation Loss: 10.364711\n",
            "Epoch: 16 \tTraining Loss: 0.324630 \tValidation Loss: 10.568663\n",
            "Epoch: 17 \tTraining Loss: 0.291714 \tValidation Loss: 10.994031\n",
            "Epoch: 18 \tTraining Loss: 0.313581 \tValidation Loss: 11.531608\n",
            "Epoch: 19 \tTraining Loss: 0.264222 \tValidation Loss: 12.343008\n",
            "Epoch: 20 \tTraining Loss: 0.275810 \tValidation Loss: 13.032315\n",
            "Epoch: 21 \tTraining Loss: 0.231121 \tValidation Loss: 13.661788\n",
            "Epoch: 22 \tTraining Loss: 0.219994 \tValidation Loss: 12.748363\n",
            "Epoch: 23 \tTraining Loss: 0.207677 \tValidation Loss: 12.705805\n",
            "Epoch: 24 \tTraining Loss: 0.186208 \tValidation Loss: 13.858206\n",
            "Epoch: 25 \tTraining Loss: 0.166839 \tValidation Loss: 14.942270\n",
            "Epoch: 26 \tTraining Loss: 0.173084 \tValidation Loss: 14.917851\n",
            "Epoch: 27 \tTraining Loss: 0.126366 \tValidation Loss: 14.575406\n",
            "Epoch: 28 \tTraining Loss: 0.142550 \tValidation Loss: 14.716587\n",
            "Epoch: 29 \tTraining Loss: 0.133980 \tValidation Loss: 15.632504\n",
            "Epoch: 30 \tTraining Loss: 0.113630 \tValidation Loss: 15.753025\n",
            "Epoch: 31 \tTraining Loss: 0.107314 \tValidation Loss: 15.839904\n",
            "Epoch: 32 \tTraining Loss: 0.128487 \tValidation Loss: 16.271753\n",
            "Epoch: 33 \tTraining Loss: 0.116597 \tValidation Loss: 16.797003\n",
            "Epoch: 34 \tTraining Loss: 0.135788 \tValidation Loss: 16.013643\n",
            "Epoch: 35 \tTraining Loss: 0.096325 \tValidation Loss: 15.431733\n",
            "Epoch: 36 \tTraining Loss: 0.111822 \tValidation Loss: 15.302081\n",
            "Epoch: 37 \tTraining Loss: 0.079065 \tValidation Loss: 15.747740\n",
            "Epoch: 38 \tTraining Loss: 0.062913 \tValidation Loss: 16.836514\n",
            "Epoch: 39 \tTraining Loss: 0.073666 \tValidation Loss: 17.531105\n",
            "Epoch: 40 \tTraining Loss: 0.056609 \tValidation Loss: 17.962271\n",
            "Epoch: 41 \tTraining Loss: 0.101270 \tValidation Loss: 17.377491\n",
            "Epoch: 42 \tTraining Loss: 0.060628 \tValidation Loss: 16.770365\n",
            "Epoch: 43 \tTraining Loss: 0.065857 \tValidation Loss: 16.510265\n",
            "Epoch: 44 \tTraining Loss: 0.066927 \tValidation Loss: 16.864544\n",
            "Epoch: 45 \tTraining Loss: 0.054358 \tValidation Loss: 17.861300\n",
            "Epoch: 46 \tTraining Loss: 0.039157 \tValidation Loss: 18.586210\n",
            "Epoch: 47 \tTraining Loss: 0.083814 \tValidation Loss: 18.573145\n",
            "Epoch: 48 \tTraining Loss: 0.049701 \tValidation Loss: 17.894407\n",
            "Epoch: 49 \tTraining Loss: 0.072028 \tValidation Loss: 18.227167\n",
            "Epoch: 50 \tTraining Loss: 0.034121 \tValidation Loss: 19.164303\n",
            "Epoch: 51 \tTraining Loss: 0.040568 \tValidation Loss: 19.499826\n",
            "Epoch: 52 \tTraining Loss: 0.040110 \tValidation Loss: 19.300331\n",
            "Epoch: 53 \tTraining Loss: 0.026100 \tValidation Loss: 18.418344\n",
            "Epoch: 54 \tTraining Loss: 0.047911 \tValidation Loss: 18.362358\n",
            "Epoch: 55 \tTraining Loss: 0.057697 \tValidation Loss: 19.516857\n",
            "Epoch: 56 \tTraining Loss: 0.031289 \tValidation Loss: 20.958889\n",
            "Epoch: 57 \tTraining Loss: 0.055849 \tValidation Loss: 21.528055\n",
            "Epoch: 58 \tTraining Loss: 0.049101 \tValidation Loss: 20.318155\n",
            "Epoch: 59 \tTraining Loss: 0.042623 \tValidation Loss: 19.661625\n",
            "Epoch: 60 \tTraining Loss: 0.022155 \tValidation Loss: 19.665091\n",
            "Epoch: 61 \tTraining Loss: 0.032531 \tValidation Loss: 20.247213\n",
            "Epoch: 62 \tTraining Loss: 0.025933 \tValidation Loss: 20.190609\n",
            "Epoch: 63 \tTraining Loss: 0.048386 \tValidation Loss: 19.214880\n",
            "Epoch: 64 \tTraining Loss: 0.018807 \tValidation Loss: 18.534769\n",
            "Epoch: 65 \tTraining Loss: 0.022147 \tValidation Loss: 19.179178\n",
            "Epoch: 66 \tTraining Loss: 0.021662 \tValidation Loss: 20.336649\n",
            "Epoch: 67 \tTraining Loss: 0.041954 \tValidation Loss: 20.283928\n",
            "Epoch: 68 \tTraining Loss: 0.057755 \tValidation Loss: 20.240320\n",
            "Epoch: 69 \tTraining Loss: 0.053673 \tValidation Loss: 20.103931\n",
            "Epoch: 70 \tTraining Loss: 0.026012 \tValidation Loss: 21.265055\n",
            "Epoch: 71 \tTraining Loss: 0.048010 \tValidation Loss: 20.765577\n",
            "Epoch: 72 \tTraining Loss: 0.025449 \tValidation Loss: 20.872595\n",
            "Epoch: 73 \tTraining Loss: 0.031856 \tValidation Loss: 21.106205\n",
            "Epoch: 74 \tTraining Loss: 0.025448 \tValidation Loss: 20.534384\n",
            "Epoch: 75 \tTraining Loss: 0.034741 \tValidation Loss: 19.959454\n",
            "Epoch: 76 \tTraining Loss: 0.038089 \tValidation Loss: 20.753859\n",
            "Epoch: 77 \tTraining Loss: 0.016296 \tValidation Loss: 23.238852\n",
            "Epoch: 78 \tTraining Loss: 0.049784 \tValidation Loss: 21.713871\n",
            "Epoch: 79 \tTraining Loss: 0.044967 \tValidation Loss: 20.286430\n",
            "Epoch: 80 \tTraining Loss: 0.056162 \tValidation Loss: 21.270329\n",
            "Epoch: 81 \tTraining Loss: 0.040086 \tValidation Loss: 21.354527\n",
            "Epoch: 82 \tTraining Loss: 0.015866 \tValidation Loss: 21.158897\n",
            "Epoch: 83 \tTraining Loss: 0.034769 \tValidation Loss: 21.612661\n",
            "Epoch: 84 \tTraining Loss: 0.018094 \tValidation Loss: 22.966511\n",
            "Epoch: 85 \tTraining Loss: 0.040273 \tValidation Loss: 24.650677\n",
            "Epoch: 86 \tTraining Loss: 0.025082 \tValidation Loss: 24.314085\n",
            "Epoch: 87 \tTraining Loss: 0.029357 \tValidation Loss: 23.341364\n",
            "Epoch: 88 \tTraining Loss: 0.014786 \tValidation Loss: 24.116600\n",
            "Epoch: 89 \tTraining Loss: 0.007912 \tValidation Loss: 25.035410\n",
            "Epoch: 90 \tTraining Loss: 0.018303 \tValidation Loss: 25.486820\n",
            "Epoch: 91 \tTraining Loss: 0.028056 \tValidation Loss: 26.206657\n",
            "Epoch: 92 \tTraining Loss: 0.032957 \tValidation Loss: 26.003468\n",
            "Epoch: 93 \tTraining Loss: 0.017178 \tValidation Loss: 27.526997\n",
            "Epoch: 94 \tTraining Loss: 0.016617 \tValidation Loss: 25.989130\n",
            "Epoch: 95 \tTraining Loss: 0.022916 \tValidation Loss: 23.553562\n",
            "Epoch: 96 \tTraining Loss: 0.018580 \tValidation Loss: 24.290611\n",
            "Epoch: 97 \tTraining Loss: 0.065398 \tValidation Loss: 24.406862\n",
            "Epoch: 98 \tTraining Loss: 0.017709 \tValidation Loss: 25.221050\n",
            "Epoch: 99 \tTraining Loss: 0.014580 \tValidation Loss: 25.201063\n",
            "Epoch: 100 \tTraining Loss: 0.023178 \tValidation Loss: 24.379295\n"
          ]
        }
      ]
    },
    {
      "cell_type": "code",
      "source": [],
      "metadata": {
        "id": "WS21sx4N2RI2"
      },
      "execution_count": null,
      "outputs": []
    }
  ]
}